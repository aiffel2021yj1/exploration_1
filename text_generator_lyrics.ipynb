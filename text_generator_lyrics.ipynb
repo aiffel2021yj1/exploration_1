{
 "cells": [
  {
   "cell_type": "code",
   "execution_count": 1,
   "id": "metallic-worker",
   "metadata": {},
   "outputs": [],
   "source": [
    "import numpy as np\n",
    "import matplotlib.pyplot as plt\n",
    "%matplotlib inline\n",
    "\n",
    "import os, re \n",
    "import tensorflow as tf\n",
    "import glob\n",
    "\n",
    "from sklearn.model_selection import train_test_split"
   ]
  },
  {
   "cell_type": "markdown",
   "id": "aerial-individual",
   "metadata": {},
   "source": [
    "### I. data import"
   ]
  },
  {
   "cell_type": "code",
   "execution_count": 2,
   "id": "vulnerable-monitor",
   "metadata": {},
   "outputs": [
    {
     "name": "stdout",
     "output_type": "stream",
     "text": [
      "데이터 크기: 187088\n",
      "Examples:\n",
      " ['What do you mean?', 'Oh, oh, oh', 'When you sometimes say yes']\n"
     ]
    }
   ],
   "source": [
    "txt_file_path = os.getenv('HOME')+'/aiffel/fundamental/1005_lstm/lyrics/*'\n",
    "\n",
    "txt_list = glob.glob(txt_file_path)\n",
    "\n",
    "raw_corpus = []\n",
    "\n",
    "# 여러개의 txt 파일을 모두 읽어서 raw_corpus 에 담습니다.\n",
    "for txt_file in txt_list:\n",
    "    with open(txt_file, \"r\") as f:\n",
    "        raw = f.read().splitlines()\n",
    "        raw_corpus.extend(raw)\n",
    "\n",
    "print(\"데이터 크기:\", len(raw_corpus))\n",
    "print(\"Examples:\\n\", raw_corpus[:3])"
   ]
  },
  {
   "cell_type": "markdown",
   "id": "wooden-owner",
   "metadata": {},
   "source": [
    "### II. pre-processing"
   ]
  },
  {
   "cell_type": "markdown",
   "id": "fifth-penalty",
   "metadata": {},
   "source": [
    "#### stemming"
   ]
  },
  {
   "cell_type": "code",
   "execution_count": 3,
   "id": "connected-greeting",
   "metadata": {},
   "outputs": [
    {
     "name": "stdout",
     "output_type": "stream",
     "text": [
      "<start> this is sample sentence . <end>\n"
     ]
    }
   ],
   "source": [
    "# 입력된 문장을\n",
    "#     1. 소문자로 바꾸고, 양쪽 공백을 지웁니다\n",
    "#     2. 특수문자 양쪽에 공백을 넣고\n",
    "#     3. 여러개의 공백은 하나의 공백으로 바꿉니다\n",
    "#     4. a-zA-Z?.!,¿가 아닌 모든 문자를 하나의 공백으로 바꿉니다\n",
    "#     5. 다시 양쪽 공백을 지웁니다\n",
    "#     6. 문장 시작에는 <start>, 끝에는 <end>를 추가합니다\n",
    "# 이 순서로 처리해주면 문제가 되는 상황을 방지할 수 있겠네요!\n",
    "def preprocess_sentence(sentence):\n",
    "    sentence = sentence.lower().strip() # 1\n",
    "    sentence = re.sub(r\"([?.!,¿])\", r\" \\1 \", sentence) # 2\n",
    "    sentence = re.sub(r'[\" \"]+', \" \", sentence) # 3\n",
    "    sentence = re.sub(r\"[^a-zA-Z?.!,¿]+\", \" \", sentence) # 4\n",
    "    sentence = sentence.strip() # 5\n",
    "    sentence = '<start> ' + sentence + ' <end>' # 6\n",
    "    return sentence\n",
    "\n",
    "# 이 문장이 어떻게 필터링되는지 확인해 보세요.\n",
    "print(preprocess_sentence(\"This @_is ;;;sample        sentence.\"))"
   ]
  },
  {
   "cell_type": "code",
   "execution_count": 4,
   "id": "hungry-warner",
   "metadata": {},
   "outputs": [
    {
     "data": {
      "text/plain": [
       "['<start> what do you mean ? <end>',\n",
       " '<start> oh , oh , oh <end>',\n",
       " '<start> when you sometimes say yes <end>',\n",
       " '<start> but you sometimes say no <end>',\n",
       " '<start> what do you mean ? <end>',\n",
       " '<start> hey , yeah <end>',\n",
       " '<start> when you don t want me to move <end>',\n",
       " '<start> but you tell me to go <end>',\n",
       " '<start> what do you mean ? <end>',\n",
       " '<start> oh <end>']"
      ]
     },
     "execution_count": 4,
     "metadata": {},
     "output_type": "execute_result"
    }
   ],
   "source": [
    "# 여기에 정제된 문장을 모을겁니다\n",
    "corpus = []\n",
    "\n",
    "for sentence in raw_corpus:\n",
    "    # 우리가 원하지 않는 문장은 건너뜁니다\n",
    "    if len(sentence) == 0: continue\n",
    "    if sentence[-1] == \":\": continue\n",
    "    \n",
    "    # 정제를 하고 담아주세요\n",
    "    preprocessed_sentence = preprocess_sentence(sentence)\n",
    "    corpus.append(preprocessed_sentence)\n",
    "        \n",
    "# 정제된 결과를 10개만 확인해보죠\n",
    "corpus[:10]"
   ]
  },
  {
   "cell_type": "code",
   "execution_count": 5,
   "id": "developed-lesbian",
   "metadata": {},
   "outputs": [
    {
     "data": {
      "text/plain": [
       "175749"
      ]
     },
     "execution_count": 5,
     "metadata": {},
     "output_type": "execute_result"
    }
   ],
   "source": [
    "len(corpus)"
   ]
  },
  {
   "cell_type": "markdown",
   "id": "bored-intensity",
   "metadata": {},
   "source": [
    "#### tokenizing"
   ]
  },
  {
   "cell_type": "code",
   "execution_count": 6,
   "id": "honest-promise",
   "metadata": {},
   "outputs": [
    {
     "name": "stdout",
     "output_type": "stream",
     "text": [
      "[[   2   40   47 ...    0    0    0]\n",
      " [   2   39    4 ...    0    0    0]\n",
      " [   2   46    7 ...    0    0    0]\n",
      " ...\n",
      " [   2    7  224 ...    0    0    0]\n",
      " [  19  144    4 ...   19  882    3]\n",
      " [   2    8 3460 ...    0    0    0]] <keras_preprocessing.text.Tokenizer object at 0x7f0cfa8a1110>\n"
     ]
    }
   ],
   "source": [
    "# 토큰화 할 때 텐서플로우의 Tokenizer와 pad_sequences를 사용합니다\n",
    "# 더 잘 알기 위해 아래 문서들을 참고하면 좋습니다\n",
    "# https://www.tensorflow.org/api_docs/python/tf/keras/preprocessing/text/Tokenizer\n",
    "# https://www.tensorflow.org/api_docs/python/tf/keras/preprocessing/sequence/pad_sequences\n",
    "def tokenize(corpus):\n",
    "    tokenizer = tf.keras.preprocessing.text.Tokenizer(\n",
    "        num_words=12000, \n",
    "        filters=' ',\n",
    "        oov_token=\"<unk>\"\n",
    "    )\n",
    "    # corpus를 이용해 tokenizer 내부의 단어장을 완성합니다\n",
    "    tokenizer.fit_on_texts(corpus)\n",
    "    # 준비한 tokenizer를 이용해 corpus를 Tensor로 변환합니다\n",
    "    tensor = tokenizer.texts_to_sequences(corpus)   \n",
    "    # 입력 데이터의 시퀀스 길이를 일정하게 맞춰줍니다\n",
    "    # 만약 시퀀스가 짧다면 문장 뒤에 패딩을 붙여 길이를 맞춰줍니다.\n",
    "    # 문장 앞에 패딩을 붙여 길이를 맞추고 싶다면 padding='pre'를 사용합니다\n",
    "    tensor = tf.keras.preprocessing.sequence.pad_sequences(tensor, padding='post', maxlen = 15)  ## 토큰 최대 15개만 \n",
    "    \n",
    "    print(tensor,tokenizer)\n",
    "    return tensor, tokenizer\n",
    "\n",
    "tensor, tokenizer = tokenize(corpus)"
   ]
  },
  {
   "cell_type": "markdown",
   "id": "analyzed-prerequisite",
   "metadata": {},
   "source": [
    "* 단어장 수는 12,000, 토큰은 15로 리밋"
   ]
  },
  {
   "cell_type": "code",
   "execution_count": 7,
   "id": "third-gospel",
   "metadata": {},
   "outputs": [
    {
     "name": "stdout",
     "output_type": "stream",
     "text": [
      "[  2  40  47   7 243  43   3   0   0   0   0   0   0   0   0]\n",
      "\n",
      "-----------------------------\n",
      "\n",
      "tensor length: 15\n"
     ]
    }
   ],
   "source": [
    "# tensor 길이 확인\n",
    "print(tensor[0,])\n",
    "print(\"\\n-----------------------------\\n\")\n",
    "print(\"tensor length:\", len(tensor[0,]))"
   ]
  },
  {
   "cell_type": "markdown",
   "id": "vertical-queen",
   "metadata": {},
   "source": [
    "##### source and target split"
   ]
  },
  {
   "cell_type": "code",
   "execution_count": 8,
   "id": "separate-representative",
   "metadata": {},
   "outputs": [
    {
     "name": "stdout",
     "output_type": "stream",
     "text": [
      "[  2  40  47   7 243  43   3   0   0   0   0   0   0   0]\n",
      "[ 40  47   7 243  43   3   0   0   0   0   0   0   0   0]\n"
     ]
    }
   ],
   "source": [
    "# tensor에서 마지막 토큰을 잘라내서 소스 문장을 생성합니다\n",
    "# 마지막 토큰은 <end>가 아니라 <pad>일 가능성이 높습니다.\n",
    "src_input = tensor[:, :-1]  \n",
    "# tensor에서 <start>를 잘라내서 타겟 문장을 생성합니다.\n",
    "tgt_input = tensor[:, 1:]    \n",
    "\n",
    "print(src_input[0])\n",
    "print(tgt_input[0])"
   ]
  },
  {
   "cell_type": "markdown",
   "id": "certain-louisiana",
   "metadata": {},
   "source": [
    "### III. test, train split"
   ]
  },
  {
   "cell_type": "markdown",
   "id": "spanish-promise",
   "metadata": {},
   "source": [
    "#### dataset object"
   ]
  },
  {
   "cell_type": "code",
   "execution_count": 9,
   "id": "backed-course",
   "metadata": {},
   "outputs": [
    {
     "data": {
      "text/plain": [
       "<BatchDataset shapes: ((256, 14), (256, 14)), types: (tf.int32, tf.int32)>"
      ]
     },
     "execution_count": 9,
     "metadata": {},
     "output_type": "execute_result"
    }
   ],
   "source": [
    "BUFFER_SIZE = len(src_input)\n",
    "BATCH_SIZE = 256\n",
    "steps_per_epoch = len(src_input) // BATCH_SIZE\n",
    "\n",
    " # tokenizer가 구축한 단어사전 내 7000개와, 여기 포함되지 않은 0:<pad>를 포함하여 7001개\n",
    "VOCAB_SIZE = tokenizer.num_words + 1   \n",
    "\n",
    "# 준비한 데이터 소스로부터 데이터셋을 만듭니다\n",
    "# 데이터셋에 대해서는 아래 문서를 참고하세요\n",
    "# 자세히 알아둘수록 도움이 많이 되는 중요한 문서입니다\n",
    "# https://www.tensorflow.org/api_docs/python/tf/data/Dataset\n",
    "dataset = tf.data.Dataset.from_tensor_slices((src_input, tgt_input))\n",
    "dataset = dataset.shuffle(BUFFER_SIZE)\n",
    "dataset = dataset.batch(BATCH_SIZE, drop_remainder=True)\n",
    "dataset"
   ]
  },
  {
   "cell_type": "code",
   "execution_count": 10,
   "id": "wrong-columbus",
   "metadata": {},
   "outputs": [
    {
     "name": "stdout",
     "output_type": "stream",
     "text": [
      "source train : (140599, 14)\n",
      "target train : (140599, 14)\n",
      "source test : (35150, 14)\n",
      "target test  : (35150, 14)\n"
     ]
    }
   ],
   "source": [
    "src_train, src_test, trg_train, trg_test = train_test_split(src_input, tgt_input, test_size=0.2)\n",
    "\n",
    "print('source train :', src_train.shape)\n",
    "print('target train :', trg_train.shape)\n",
    "print('source test :', src_test.shape)\n",
    "print('target test  :', trg_test.shape)"
   ]
  },
  {
   "cell_type": "markdown",
   "id": "worldwide-pharmaceutical",
   "metadata": {},
   "source": [
    "### IV. modelling"
   ]
  },
  {
   "cell_type": "code",
   "execution_count": 11,
   "id": "powered-telling",
   "metadata": {},
   "outputs": [],
   "source": [
    "class TextGenerator(tf.keras.Model):\n",
    "    def __init__(self, vocab_size, embedding_size, hidden_size):\n",
    "        super().__init__()\n",
    "        \n",
    "        self.embedding = tf.keras.layers.Embedding(vocab_size, embedding_size)\n",
    "        self.rnn_1 = tf.keras.layers.LSTM(hidden_size, return_sequences=True)\n",
    "        self.rnn_2 = tf.keras.layers.LSTM(hidden_size, return_sequences=True)\n",
    "        self.linear = tf.keras.layers.Dense(vocab_size)\n",
    "        \n",
    "    def call(self, x):\n",
    "        out = self.embedding(x)\n",
    "        out = self.rnn_1(out)\n",
    "        out = self.rnn_2(out)\n",
    "        out = self.linear(out)\n",
    "        \n",
    "        return out\n",
    "    \n",
    "embedding_size = 256\n",
    "hidden_size = 1024\n",
    "model = TextGenerator(tokenizer.num_words + 1, embedding_size , hidden_size)"
   ]
  },
  {
   "cell_type": "code",
   "execution_count": 12,
   "id": "increased-repeat",
   "metadata": {},
   "outputs": [
    {
     "data": {
      "text/plain": [
       "<tf.Tensor: shape=(256, 14, 12001), dtype=float32, numpy=\n",
       "array([[[ 2.42224749e-04, -2.10468817e-04, -3.54580789e-06, ...,\n",
       "         -1.55135549e-05, -5.63139110e-06,  3.83634724e-05],\n",
       "        [ 3.37018486e-04,  2.44113180e-05, -1.49645530e-05, ...,\n",
       "         -5.97169274e-05, -7.23142148e-06,  3.25343012e-06],\n",
       "        [ 1.84258257e-04,  5.09586476e-04, -6.42737432e-05, ...,\n",
       "         -1.43040554e-04, -2.09511800e-05,  9.87971871e-05],\n",
       "        ...,\n",
       "        [ 2.60280591e-04,  1.64098834e-04,  3.11885437e-04, ...,\n",
       "          3.79758712e-04,  5.45529008e-04,  4.26881161e-04],\n",
       "        [-3.28313530e-04,  1.82102303e-04,  3.05830676e-04, ...,\n",
       "          4.23023186e-04,  6.70404290e-04,  1.04190386e-03],\n",
       "        [-9.69662738e-04,  1.73703243e-04,  3.14635632e-04, ...,\n",
       "          4.55701549e-04,  7.72519736e-04,  1.71206193e-03]],\n",
       "\n",
       "       [[ 2.42224749e-04, -2.10468817e-04, -3.54580789e-06, ...,\n",
       "         -1.55135549e-05, -5.63139110e-06,  3.83634724e-05],\n",
       "        [ 4.16495022e-04, -1.38897594e-04,  1.26516834e-05, ...,\n",
       "          2.41347770e-05, -3.76935932e-05,  3.73820029e-07],\n",
       "        [ 7.73775624e-04, -1.65477439e-04,  2.29307974e-04, ...,\n",
       "         -1.04900355e-05,  2.05832461e-04, -7.24238271e-05],\n",
       "        ...,\n",
       "        [-2.66146526e-04,  9.86822648e-04, -9.12535615e-05, ...,\n",
       "         -5.51114907e-04,  1.12071422e-04,  1.69951841e-03],\n",
       "        [-9.81009565e-04,  9.42568469e-04,  3.11657459e-05, ...,\n",
       "         -4.46598511e-04,  9.64962310e-05,  2.38594925e-03],\n",
       "        [-1.66885881e-03,  8.32023274e-04,  1.45949758e-04, ...,\n",
       "         -3.30139446e-04,  9.35202552e-05,  3.03438772e-03]],\n",
       "\n",
       "       [[ 1.25633174e-04, -5.37003107e-05,  1.31077963e-04, ...,\n",
       "          1.83009441e-04, -1.42876554e-04, -1.78362883e-04],\n",
       "        [ 4.02703969e-04,  2.57339925e-05,  1.18110343e-04, ...,\n",
       "          2.29341065e-04, -5.94610356e-05, -2.48561293e-04],\n",
       "        [ 4.14986687e-04, -6.24637541e-05,  2.73232028e-04, ...,\n",
       "          1.34144706e-04,  1.61208780e-04, -2.18402463e-04],\n",
       "        ...,\n",
       "        [-1.06212625e-03, -4.38804796e-04, -1.67244303e-04, ...,\n",
       "         -2.93802499e-04, -1.06330146e-03, -1.14168646e-03],\n",
       "        [-1.07396382e-03, -1.92318417e-04,  2.35896277e-05, ...,\n",
       "          4.14024871e-05, -1.21593522e-03, -1.16080127e-03],\n",
       "        [-8.25592724e-04,  7.26833605e-05,  5.59479085e-05, ...,\n",
       "          2.22789444e-04, -1.06324849e-03, -1.06597913e-03]],\n",
       "\n",
       "       ...,\n",
       "\n",
       "       [[ 2.42224749e-04, -2.10468817e-04, -3.54580789e-06, ...,\n",
       "         -1.55135549e-05, -5.63139110e-06,  3.83634724e-05],\n",
       "        [ 2.06822398e-04,  8.63354653e-05, -2.67739542e-05, ...,\n",
       "         -1.12787246e-04,  4.53529501e-05,  1.58913812e-04],\n",
       "        [ 2.06248253e-04,  1.51952947e-04, -1.91695071e-04, ...,\n",
       "         -2.68336211e-04,  4.21631063e-04,  4.53280110e-04],\n",
       "        ...,\n",
       "        [-2.62316922e-03,  7.84284901e-04,  3.29021968e-05, ...,\n",
       "          1.15371973e-03,  5.14999032e-04,  2.24610488e-03],\n",
       "        [-3.11191590e-03,  6.36666722e-04,  2.85506721e-05, ...,\n",
       "          1.10236730e-03,  5.27662109e-04,  2.82672700e-03],\n",
       "        [-3.55303101e-03,  4.47883736e-04,  2.52740156e-05, ...,\n",
       "          1.06485281e-03,  5.24216797e-04,  3.34490067e-03]],\n",
       "\n",
       "       [[ 2.42224749e-04, -2.10468817e-04, -3.54580789e-06, ...,\n",
       "         -1.55135549e-05, -5.63139110e-06,  3.83634724e-05],\n",
       "        [ 1.58718321e-04, -3.31387797e-04,  1.09818109e-04, ...,\n",
       "         -1.42610355e-04, -9.12590767e-05, -1.07394197e-04],\n",
       "        [ 3.25016095e-04, -3.39930237e-04,  5.84758120e-04, ...,\n",
       "         -1.41427663e-04,  8.31479483e-05, -2.08487836e-04],\n",
       "        ...,\n",
       "        [-1.17317883e-04, -1.21240766e-04,  3.59787140e-04, ...,\n",
       "          7.31552020e-04,  2.89684336e-04,  3.77848948e-04],\n",
       "        [-6.47461682e-04, -6.82160826e-05,  2.19183974e-04, ...,\n",
       "          7.83269294e-04,  3.63911036e-04,  9.59494442e-04],\n",
       "        [-1.23255653e-03, -2.57039119e-05,  1.19881886e-04, ...,\n",
       "          8.07020464e-04,  4.38218995e-04,  1.59085554e-03]],\n",
       "\n",
       "       [[ 2.42224749e-04, -2.10468817e-04, -3.54580789e-06, ...,\n",
       "         -1.55135549e-05, -5.63139110e-06,  3.83634724e-05],\n",
       "        [ 3.99322860e-04, -2.66348768e-04, -1.86888210e-05, ...,\n",
       "          5.70912619e-07,  1.72233660e-04,  1.01862206e-04],\n",
       "        [ 7.70860759e-04, -1.63354722e-04,  7.09602682e-05, ...,\n",
       "         -1.55757545e-04, -3.12596308e-06,  2.68230961e-05],\n",
       "        ...,\n",
       "        [-1.18458274e-06,  1.23959524e-03,  3.97405092e-04, ...,\n",
       "         -1.08194952e-04, -1.24099304e-03, -2.18909685e-04],\n",
       "        [-8.17937616e-05,  1.25612598e-03,  3.91006324e-04, ...,\n",
       "          8.46512485e-05, -1.30752358e-03, -3.71268718e-04],\n",
       "        [-3.67719796e-04,  1.24599936e-03,  4.08091495e-04, ...,\n",
       "          1.90244289e-04, -1.21285347e-03, -8.62653105e-05]]],\n",
       "      dtype=float32)>"
      ]
     },
     "execution_count": 12,
     "metadata": {},
     "output_type": "execute_result"
    }
   ],
   "source": [
    "# 데이터셋에서 데이터 한 배치만 불러오는 방법입니다.\n",
    "# 지금은 동작 원리에 너무 빠져들지 마세요~\n",
    "for src_sample, tgt_sample in dataset.take(1): break\n",
    "\n",
    "# 한 배치만 불러온 데이터를 모델에 넣어봅니다\n",
    "model(src_sample)"
   ]
  },
  {
   "cell_type": "code",
   "execution_count": 13,
   "id": "fantastic-discharge",
   "metadata": {},
   "outputs": [
    {
     "name": "stdout",
     "output_type": "stream",
     "text": [
      "Model: \"text_generator\"\n",
      "_________________________________________________________________\n",
      "Layer (type)                 Output Shape              Param #   \n",
      "=================================================================\n",
      "embedding (Embedding)        multiple                  3072256   \n",
      "_________________________________________________________________\n",
      "lstm (LSTM)                  multiple                  5246976   \n",
      "_________________________________________________________________\n",
      "lstm_1 (LSTM)                multiple                  8392704   \n",
      "_________________________________________________________________\n",
      "dense (Dense)                multiple                  12301025  \n",
      "=================================================================\n",
      "Total params: 29,012,961\n",
      "Trainable params: 29,012,961\n",
      "Non-trainable params: 0\n",
      "_________________________________________________________________\n"
     ]
    }
   ],
   "source": [
    "model.summary()"
   ]
  },
  {
   "cell_type": "markdown",
   "id": "christian-potter",
   "metadata": {},
   "source": [
    "#### training"
   ]
  },
  {
   "cell_type": "code",
   "execution_count": 14,
   "id": "bored-milton",
   "metadata": {},
   "outputs": [
    {
     "name": "stdout",
     "output_type": "stream",
     "text": [
      "Epoch 1/10\n",
      "550/550 [==============================] - 193s 345ms/step - loss: 4.2816 - val_loss: 3.3350\n",
      "Epoch 2/10\n",
      "550/550 [==============================] - 190s 345ms/step - loss: 3.0340 - val_loss: 2.9987\n",
      "Epoch 4/10\n",
      "550/550 [==============================] - 188s 342ms/step - loss: 2.8884 - val_loss: 2.8993\n",
      "Epoch 5/10\n",
      "550/550 [==============================] - 189s 344ms/step - loss: 2.7545 - val_loss: 2.8277\n",
      "Epoch 6/10\n",
      "550/550 [==============================] - 189s 344ms/step - loss: 2.6396 - val_loss: 2.7696\n",
      "Epoch 7/10\n",
      "550/550 [==============================] - 188s 341ms/step - loss: 2.5302 - val_loss: 2.7181\n",
      "Epoch 8/10\n",
      "550/550 [==============================] - 188s 341ms/step - loss: 2.4284 - val_loss: 2.6784\n",
      "Epoch 9/10\n",
      "550/550 [==============================] - 189s 343ms/step - loss: 2.3336 - val_loss: 2.6431\n",
      "Epoch 10/10\n",
      "550/550 [==============================] - 188s 342ms/step - loss: 2.2448 - val_loss: 2.6149\n"
     ]
    }
   ],
   "source": [
    "# optimizer와 loss등은 차차 배웁니다\n",
    "# 혹시 미리 알고 싶다면 아래 문서를 참고하세요\n",
    "# https://www.tensorflow.org/api_docs/python/tf/keras/optimizers\n",
    "# https://www.tensorflow.org/api_docs/python/tf/keras/losses\n",
    "# 양이 상당히 많은 편이니 지금 보는 것은 추천하지 않습니다\n",
    "optimizer = tf.keras.optimizers.Adam()\n",
    "loss = tf.keras.losses.SparseCategoricalCrossentropy(\n",
    "    from_logits=True, \n",
    "    reduction= \"auto\")\n",
    "\n",
    "model.compile(loss=loss, optimizer=optimizer)\n",
    "result = model.fit(src_train, trg_train, validation_data =(src_test, trg_test), batch_size=BATCH_SIZE, epochs=10)"
   ]
  },
  {
   "cell_type": "markdown",
   "id": "extensive-checkout",
   "metadata": {},
   "source": [
    "### V. text generation"
   ]
  },
  {
   "cell_type": "code",
   "execution_count": 17,
   "id": "superior-pledge",
   "metadata": {},
   "outputs": [],
   "source": [
    "def generate_text(lyricist, tokenizer, init_sentence=\"<start>\", max_len=20):\n",
    "    # 테스트를 위해서 입력받은 init_sentence도 텐서로 변환합니다\n",
    "    test_input = tokenizer.texts_to_sequences([init_sentence])\n",
    "    test_tensor = tf.convert_to_tensor(test_input, dtype=tf.int64)\n",
    "    end_token = tokenizer.word_index[\"<end>\"]\n",
    "\n",
    "    # 단어 하나씩 예측해 문장을 만듭니다\n",
    "    #    1. 입력받은 문장의 텐서를 입력합니다\n",
    "    #    2. 예측된 값 중 가장 높은 확률인 word index를 뽑아냅니다\n",
    "    #    3. 2에서 예측된 word index를 문장 뒤에 붙입니다\n",
    "    #    4. 모델이 <end>를 예측했거나, max_len에 도달했다면 문장 생성을 마칩니다\n",
    "    while True:\n",
    "        # 1\n",
    "        predict = model(test_tensor) \n",
    "        # 2\n",
    "        predict_word = tf.argmax(tf.nn.softmax(predict, axis=-1), axis=-1)[:, -1] \n",
    "        # 3 \n",
    "        test_tensor = tf.concat([test_tensor, tf.expand_dims(predict_word, axis=0)], axis=-1)\n",
    "        # 4\n",
    "        if predict_word.numpy()[0] == end_token: break\n",
    "        if test_tensor.shape[1] >= max_len: break\n",
    "\n",
    "    generated = \"\"\n",
    "    # tokenizer를 이용해 word index를 단어로 하나씩 변환합니다 \n",
    "    for word_index in test_tensor[0].numpy():\n",
    "        generated += tokenizer.index_word[word_index] + \" \"\n",
    "\n",
    "    return generated"
   ]
  },
  {
   "cell_type": "code",
   "execution_count": 18,
   "id": "horizontal-protest",
   "metadata": {},
   "outputs": [
    {
     "data": {
      "text/plain": [
       "'<start> she s a <unk> <end> '"
      ]
     },
     "execution_count": 18,
     "metadata": {},
     "output_type": "execute_result"
    }
   ],
   "source": [
    "generate_text(model, tokenizer, init_sentence=\"<start> she\")"
   ]
  },
  {
   "cell_type": "markdown",
   "id": "cooked-lebanon",
   "metadata": {},
   "source": [
    "* 그닥 그럴듯하지 않다  "
   ]
  },
  {
   "cell_type": "code",
   "execution_count": 21,
   "id": "periodic-black",
   "metadata": {},
   "outputs": [
    {
     "data": {
      "text/plain": [
       "'<start> i am not throwing away my shot <end> '"
      ]
     },
     "execution_count": 21,
     "metadata": {},
     "output_type": "execute_result"
    }
   ],
   "source": [
    "generate_text(model, tokenizer, init_sentence=\"<start> i am\")"
   ]
  },
  {
   "cell_type": "markdown",
   "id": "english-client",
   "metadata": {},
   "source": [
    "* 제법 그럴듯하다"
   ]
  },
  {
   "cell_type": "markdown",
   "id": "cubic-blank",
   "metadata": {},
   "source": [
    "#### 회고"
   ]
  },
  {
   "cell_type": "markdown",
   "id": "overall-swing",
   "metadata": {},
   "source": [
    "- validation loss를 2.2이하로 낮추지 못했다 \n",
    "- 블랙박스일 뿐인듯한 알고리즘을 쓰는게 무엇에 얼마나 용이한 것인지 모르겠다"
   ]
  }
 ],
 "metadata": {
  "kernelspec": {
   "display_name": "Python 3",
   "language": "python",
   "name": "python3"
  },
  "language_info": {
   "codemirror_mode": {
    "name": "ipython",
    "version": 3
   },
   "file_extension": ".py",
   "mimetype": "text/x-python",
   "name": "python",
   "nbconvert_exporter": "python",
   "pygments_lexer": "ipython3",
   "version": "3.7.9"
  }
 },
 "nbformat": 4,
 "nbformat_minor": 5
}
